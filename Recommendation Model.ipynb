{
 "cells": [
  {
   "cell_type": "markdown",
   "metadata": {},
   "source": [
    "## SWOO Recommendation System\n",
    "Objective :\n",
    "         \n",
    "         The objective of this notebook is to built a recommender \n",
    "         system which will take input as the existing user_id \n",
    "         and recommend 10 videos.\n",
    "\n",
    "**Tools & Technology :**\n",
    "                 \n",
    "                 Apache Spark Framework, PySpark, Jupter Notebook\n",
    "\n",
    "**Algorithm :**\n",
    "        \n",
    "        Alternating Least Squares \n",
    "\n",
    "        ALS is one of the low rank matrix approximation algorithms for \n",
    "        collabrative filtering. \n",
    "        ALS decomposes user-item matrix into two low rank matrixes: user and \n",
    "        item matrix. \n",
    "### Project Content\n",
    "\n",
    "1. Load Required Libraries\n",
    "2. Spark Configuration\n",
    "3. Spark SQL and OLAP\n",
    "4. Spark ALS based approach for training model\n",
    "5. ALS Model Optimization and Hyper Parameter Evaluation\n",
    "6. Model Testing\n",
    "7. Make Video Recommendation for given User"
   ]
  },
  {
   "cell_type": "markdown",
   "metadata": {},
   "source": [
    "## Load the required libraries"
   ]
  },
  {
   "cell_type": "code",
   "execution_count": 5,
   "metadata": {},
   "outputs": [],
   "source": [
    "import os\n",
    "import time\n",
    "\n",
    "# spark imports\n",
    "from pyspark.sql import SparkSession\n",
    "from pyspark.sql.functions import UserDefinedFunction, explode, desc\n",
    "from pyspark.sql.types import StringType, ArrayType\n",
    "from pyspark.mllib.recommendation import ALS\n",
    "\n",
    "# data science imports\n",
    "import math\n",
    "import numpy as np\n",
    "import pandas as pd\n",
    "\n",
    "# visualization imports\n",
    "import seaborn as sns\n",
    "import matplotlib.pyplot as plt\n",
    "\n",
    "%matplotlib inline\n"
   ]
  },
  {
   "cell_type": "markdown",
   "metadata": {},
   "source": [
    "# Spark Configuration"
   ]
  },
  {
   "cell_type": "code",
   "execution_count": 6,
   "metadata": {},
   "outputs": [],
   "source": [
    "# spark config\n",
    "spark = SparkSession \\\n",
    "    .builder \\\n",
    "    .appName(\"Swoo recommendation\") \\\n",
    "    .config(\"spark.driver.maxResultSize\", \"96g\") \\\n",
    "    .config(\"spark.driver.memory\", \"96g\") \\\n",
    "    .config(\"spark.executor.memory\", \"8g\") \\\n",
    "    .config(\"spark.master\", \"local[12]\") \\\n",
    "    .getOrCreate()\n",
    "# get spark context\n",
    "sc = spark.sparkContext"
   ]
  },
  {
   "cell_type": "markdown",
   "metadata": {},
   "source": [
    "# Load the data"
   ]
  },
  {
   "cell_type": "code",
   "execution_count": 7,
   "metadata": {},
   "outputs": [],
   "source": [
    "ratings = spark.read.csv('040419_Rating.csv',header=True)\n"
   ]
  },
  {
   "cell_type": "markdown",
   "metadata": {},
   "source": [
    "## Basic inspection"
   ]
  },
  {
   "cell_type": "code",
   "execution_count": 8,
   "metadata": {},
   "outputs": [
    {
     "name": "stdout",
     "output_type": "stream",
     "text": [
      "+---+-------+--------+------------------------+---------------------------+-----+----------+-----+-----+-----+------+\n",
      "|_c0|User_id|Video_id|videoplayer_shareclicked|videoplayer_downloadclicked|votes|     theme|Cond1|Cond2|Cond3|Rating|\n",
      "+---+-------+--------+------------------------+---------------------------+-----+----------+-----+-----+-----+------+\n",
      "|  0|6156680|  433441|                      No|                         No| 1004|Instrument|    0|    1| TRUE|     2|\n",
      "|  1|6156680|  433400|                      No|                         No| null|     Dance|    0|    1|FALSE|     1|\n",
      "|  2|6156680|  433400|                      No|                         No| null|     Dance|    0|    1|FALSE|     1|\n",
      "+---+-------+--------+------------------------+---------------------------+-----+----------+-----+-----+-----+------+\n",
      "only showing top 3 rows\n",
      "\n"
     ]
    }
   ],
   "source": [
    "ratings.show(3)"
   ]
  },
  {
   "cell_type": "code",
   "execution_count": 9,
   "metadata": {},
   "outputs": [
    {
     "data": {
      "text/plain": [
       "StructType(List(StructField(_c0,StringType,true),StructField(User_id,StringType,true),StructField(Video_id,StringType,true),StructField(videoplayer_shareclicked,StringType,true),StructField(videoplayer_downloadclicked,StringType,true),StructField(votes,StringType,true),StructField(theme,StringType,true),StructField(Cond1,StringType,true),StructField(Cond2,StringType,true),StructField(Cond3,StringType,true),StructField(Rating,StringType,true)))"
      ]
     },
     "execution_count": 9,
     "metadata": {},
     "output_type": "execute_result"
    }
   ],
   "source": [
    "ratings.schema"
   ]
  },
  {
   "cell_type": "markdown",
   "metadata": {},
   "source": [
    "### Change datatypes : String to integer"
   ]
  },
  {
   "cell_type": "code",
   "execution_count": 10,
   "metadata": {},
   "outputs": [
    {
     "name": "stdout",
     "output_type": "stream",
     "text": [
      "+-------+--------+------+\n",
      "|User_id|Video_id|Rating|\n",
      "+-------+--------+------+\n",
      "|6156680|  433441|     2|\n",
      "|6156680|  433400|     1|\n",
      "|6156680|  433400|     1|\n",
      "+-------+--------+------+\n",
      "only showing top 3 rows\n",
      "\n"
     ]
    }
   ],
   "source": [
    "from pyspark.sql.types import IntegerType\n",
    "ratings_1 = ratings.select(\"User_id\",\"Video_id\",\"Rating\")\n",
    "ratings_1 = ratings_1.withColumn(\"User_id\", ratings_1[\"User_id\"].cast(IntegerType()))\n",
    "ratings_1 = ratings_1.withColumn(\"Video_id\", ratings_1[\"Video_id\"].cast(IntegerType()))\n",
    "ratings_1 = ratings_1.withColumn(\"Rating\", ratings_1[\"Rating\"].cast(IntegerType()))\n",
    "ratings_1.show(3)"
   ]
  },
  {
   "cell_type": "markdown",
   "metadata": {},
   "source": [
    "# Spark SQL and OLAP"
   ]
  },
  {
   "cell_type": "markdown",
   "metadata": {},
   "source": [
    "## Ratings - Descriptive summary"
   ]
  },
  {
   "cell_type": "code",
   "execution_count": 11,
   "metadata": {},
   "outputs": [
    {
     "name": "stdout",
     "output_type": "stream",
     "text": [
      "Distinct values of ratings:\n",
      "[0, 1, 2, 3, 4, 5]\n"
     ]
    }
   ],
   "source": [
    "print('Distinct values of ratings:')\n",
    "print(sorted(ratings_1.select('Rating').distinct().rdd.map(lambda r: r[0]).collect()))"
   ]
  },
  {
   "cell_type": "markdown",
   "metadata": {},
   "source": [
    "## Minimum number of ratings per user and min number of ratings per video"
   ]
  },
  {
   "cell_type": "code",
   "execution_count": 12,
   "metadata": {},
   "outputs": [
    {
     "name": "stdout",
     "output_type": "stream",
     "text": [
      "For the users that rated videos and the videos that were rated:\n",
      "Minimum number of ratings per user is 1\n",
      "Minimum number of ratings per video is 1\n"
     ]
    }
   ],
   "source": [
    "tmp1 = ratings_1.groupBy(\"User_id\").count().toPandas()['count'].min()\n",
    "tmp2 = ratings_1.groupBy(\"Video_id\").count().toPandas()['count'].min()\n",
    "print('For the users that rated videos and the videos that were rated:')\n",
    "print('Minimum number of ratings per user is {}'.format(tmp1))\n",
    "print('Minimum number of ratings per video is {}'.format(tmp2))"
   ]
  },
  {
   "cell_type": "markdown",
   "metadata": {},
   "source": [
    "## How many video's are rated by only one user"
   ]
  },
  {
   "cell_type": "code",
   "execution_count": 13,
   "metadata": {},
   "outputs": [
    {
     "name": "stdout",
     "output_type": "stream",
     "text": [
      "5 out of 949 movies are rated by only one user\n"
     ]
    }
   ],
   "source": [
    "tmp1 = sum(ratings_1.groupBy(\"Video_id\").count().toPandas()['count'] == 1)\n",
    "tmp2 = ratings_1.select('Video_id').distinct().count()\n",
    "print('{} out of {} movies are rated by only one user'.format(tmp1, tmp2))\n"
   ]
  },
  {
   "cell_type": "markdown",
   "metadata": {},
   "source": [
    "## Total number of users in the dataset"
   ]
  },
  {
   "cell_type": "code",
   "execution_count": 14,
   "metadata": {},
   "outputs": [
    {
     "name": "stdout",
     "output_type": "stream",
     "text": [
      "We have a total of 25154 distinct users in the dataset\n"
     ]
    }
   ],
   "source": [
    "tmp = ratings_1.select('User_id').distinct().count()\n",
    "print('We have a total of {} distinct users in the dataset'.format(tmp))"
   ]
  },
  {
   "cell_type": "markdown",
   "metadata": {},
   "source": [
    "## Total number of videos in the dataset¶"
   ]
  },
  {
   "cell_type": "code",
   "execution_count": 15,
   "metadata": {},
   "outputs": [
    {
     "name": "stdout",
     "output_type": "stream",
     "text": [
      "We have a total of 949 distinct videos in the dataset\n"
     ]
    }
   ],
   "source": [
    "tmp = ratings_1.select('Video_id').distinct().count()\n",
    "print('We have a total of {} distinct videos in the dataset'.format(tmp))"
   ]
  },
  {
   "cell_type": "markdown",
   "metadata": {},
   "source": [
    "## List all distinct themes in the dataset"
   ]
  },
  {
   "cell_type": "code",
   "execution_count": 16,
   "metadata": {},
   "outputs": [
    {
     "name": "stdout",
     "output_type": "stream",
     "text": [
      "All distinct Themes: \n",
      "+--------------------+\n",
      "|               theme|\n",
      "+--------------------+\n",
      "|Instruments and S...|\n",
      "|      Dance and Sing|\n",
      "|          Instrument|\n",
      "|    April Fool Theme|\n",
      "|    Acting and Mimic|\n",
      "|             Singing|\n",
      "|                Holi|\n",
      "|              Acting|\n",
      "|              Horror|\n",
      "|              Comedy|\n",
      "|               Dance|\n",
      "|      Specific Dance|\n",
      "|           Anchoring|\n",
      "+--------------------+\n",
      "\n"
     ]
    }
   ],
   "source": [
    "print('All distinct Themes: ')\n",
    "ratings.select(\"theme\").distinct().show()"
   ]
  },
  {
   "cell_type": "markdown",
   "metadata": {},
   "source": [
    "## Count of videos per theme"
   ]
  },
  {
   "cell_type": "code",
   "execution_count": 17,
   "metadata": {},
   "outputs": [
    {
     "name": "stdout",
     "output_type": "stream",
     "text": [
      "Counts of videos per theme\n",
      "+--------------------+-----+\n",
      "|               theme|count|\n",
      "+--------------------+-----+\n",
      "|                Holi|89161|\n",
      "|             Singing|55642|\n",
      "|              Acting|40882|\n",
      "|               Dance|37168|\n",
      "|              Comedy|34472|\n",
      "|          Instrument|26695|\n",
      "|           Anchoring|23442|\n",
      "|              Horror|19125|\n",
      "|      Specific Dance|16742|\n",
      "|    April Fool Theme|16223|\n",
      "|    Acting and Mimic| 2196|\n",
      "|      Dance and Sing|  380|\n",
      "|Instruments and S...|  136|\n",
      "+--------------------+-----+\n",
      "\n"
     ]
    }
   ],
   "source": [
    "print('Counts of videos per theme')\n",
    "ratings.select(\"theme\") \\\n",
    "    .groupby('theme') \\\n",
    "    .count() \\\n",
    "    .sort(desc('count')) \\\n",
    "    .show()"
   ]
  },
  {
   "cell_type": "markdown",
   "metadata": {},
   "source": [
    "# Spark ALS based approach for training model\n",
    "\n",
    "    1.Reload data\n",
    "    2.Split data into train, validation, test\n",
    "    3.ALS Model selection and evaluation\n",
    "    4.Model Testing\n",
    "## Re-load data\n",
    "\n",
    "We will use an RDD-based API from pyspark.mllb to reload the sdata using sc.textFile and convert it to the form of ( user_id, video_id, rating )"
   ]
  },
  {
   "cell_type": "code",
   "execution_count": 19,
   "metadata": {},
   "outputs": [
    {
     "data": {
      "text/plain": [
       "[(6156680, 433441, 2), (6156680, 433400, 1), (6156680, 433400, 1)]"
      ]
     },
     "execution_count": 19,
     "metadata": {},
     "output_type": "execute_result"
    }
   ],
   "source": [
    "# load data\n",
    "movie_rating = sc.textFile('140419_Movie_Rating.csv')\n",
    "# preprocess data -- only need [\"userId\", \"movieId\", \"rating\"]\n",
    "header = movie_rating.take(1)[0]\n",
    "rating_data = movie_rating \\\n",
    "    .filter(lambda line: line!=header) \\\n",
    "    .map(lambda line: line.split(\",\")) \\\n",
    "    .map(lambda tokens: (int(tokens[0]), int(tokens[1]), int(tokens[2]))) \\\n",
    "    .cache()\n",
    "# check three rows\n",
    "rating_data.take(3)"
   ]
  },
  {
   "cell_type": "markdown",
   "metadata": {},
   "source": [
    "### Split data¶"
   ]
  },
  {
   "cell_type": "code",
   "execution_count": 20,
   "metadata": {},
   "outputs": [
    {
     "data": {
      "text/plain": [
       "PythonRDD[93] at RDD at PythonRDD.scala:53"
      ]
     },
     "execution_count": 20,
     "metadata": {},
     "output_type": "execute_result"
    }
   ],
   "source": [
    "train, validation, test = rating_data.randomSplit([6, 2, 2], seed=99)\n",
    "# cache data\n",
    "train.cache()\n",
    "validation.cache()\n",
    "test.cache()"
   ]
  },
  {
   "cell_type": "markdown",
   "metadata": {},
   "source": [
    "### ALS Model selection and evaluation\n",
    "With the ALS Model we can use grid search to find optimal hyperparameters\n"
   ]
  },
  {
   "cell_type": "code",
   "execution_count": 21,
   "metadata": {},
   "outputs": [],
   "source": [
    "def train_ALS(train_data, validation_data, num_iters, reg_param, ranks):\n",
    "    \"\"\"\n",
    "    Grid Search Function to select the best model based on RMSE of hold-out data\n",
    "    \"\"\"\n",
    "    # initial\n",
    "    min_error = float('inf')\n",
    "    best_rank = -1\n",
    "    best_regularization = 0\n",
    "    best_model = None\n",
    "    for rank in ranks:\n",
    "        for reg in reg_param:\n",
    "            # train ALS model\n",
    "            model = ALS.train(\n",
    "                ratings=train_data,    # (userID, productID, rating) tuple\n",
    "                iterations=num_iters,\n",
    "                rank=rank,\n",
    "                lambda_=reg,           # regularization param\n",
    "                seed=99)\n",
    "            # make prediction\n",
    "            valid_data = validation_data.map(lambda p: (p[0], p[1]))\n",
    "            predictions = model.predictAll(valid_data).map(lambda r: ((r[0], r[1]), r[2]))\n",
    "            # get the rating result\n",
    "            ratesAndPreds = validation_data.map(lambda r: ((r[0], r[1]), r[2])).join(predictions)\n",
    "            # get the RMSE\n",
    "            MSE = ratesAndPreds.map(lambda r: (r[1][0] - r[1][1])**2).mean()\n",
    "            error = math.sqrt(MSE)\n",
    "            print('{} latent factors and regularization = {}: validation RMSE is {}'.format(rank, reg, error))\n",
    "            if error < min_error:\n",
    "                min_error = error\n",
    "                best_rank = rank\n",
    "                best_regularization = reg\n",
    "                best_model = model\n",
    "    print('\\nThe best model has {} latent factors and regularization = {}'.format(best_rank, best_regularization))\n",
    "    return best_model"
   ]
  },
  {
   "cell_type": "code",
   "execution_count": 22,
   "metadata": {},
   "outputs": [
    {
     "name": "stdout",
     "output_type": "stream",
     "text": [
      "8 latent factors and regularization = 0.001: validation RMSE is 0.3538007252508162\n",
      "8 latent factors and regularization = 0.01: validation RMSE is 0.3250707207240372\n",
      "8 latent factors and regularization = 0.05: validation RMSE is 0.3272282883376022\n",
      "8 latent factors and regularization = 0.1: validation RMSE is 0.3579655283320017\n",
      "8 latent factors and regularization = 0.2: validation RMSE is 0.45247509104608735\n",
      "10 latent factors and regularization = 0.001: validation RMSE is 0.34649845598291124\n",
      "10 latent factors and regularization = 0.01: validation RMSE is 0.31936576592170013\n",
      "10 latent factors and regularization = 0.05: validation RMSE is 0.32527368980715926\n",
      "10 latent factors and regularization = 0.1: validation RMSE is 0.35812637193481894\n",
      "10 latent factors and regularization = 0.2: validation RMSE is 0.4530615599610824\n",
      "12 latent factors and regularization = 0.001: validation RMSE is 0.3565076758880799\n",
      "12 latent factors and regularization = 0.01: validation RMSE is 0.31976573865943986\n",
      "12 latent factors and regularization = 0.05: validation RMSE is 0.32297892999833744\n",
      "12 latent factors and regularization = 0.1: validation RMSE is 0.35742618732545584\n",
      "12 latent factors and regularization = 0.2: validation RMSE is 0.4523557965075121\n",
      "14 latent factors and regularization = 0.001: validation RMSE is 0.357063046433899\n",
      "14 latent factors and regularization = 0.01: validation RMSE is 0.31963087676511615\n",
      "14 latent factors and regularization = 0.05: validation RMSE is 0.3217603666932458\n",
      "14 latent factors and regularization = 0.1: validation RMSE is 0.3569152090355484\n",
      "14 latent factors and regularization = 0.2: validation RMSE is 0.45178123151083044\n",
      "16 latent factors and regularization = 0.001: validation RMSE is 0.3599333907489505\n",
      "16 latent factors and regularization = 0.01: validation RMSE is 0.3152886821583819\n",
      "16 latent factors and regularization = 0.05: validation RMSE is 0.3195891094349184\n",
      "16 latent factors and regularization = 0.1: validation RMSE is 0.3566217546869372\n",
      "16 latent factors and regularization = 0.2: validation RMSE is 0.4517375874858553\n",
      "18 latent factors and regularization = 0.001: validation RMSE is 0.3638373790961775\n",
      "18 latent factors and regularization = 0.01: validation RMSE is 0.3142400753104081\n",
      "18 latent factors and regularization = 0.05: validation RMSE is 0.3180700348769457\n",
      "18 latent factors and regularization = 0.1: validation RMSE is 0.35643218696499346\n",
      "18 latent factors and regularization = 0.2: validation RMSE is 0.4523429916478743\n",
      "20 latent factors and regularization = 0.001: validation RMSE is 0.36512292016879155\n",
      "20 latent factors and regularization = 0.01: validation RMSE is 0.3153355188186658\n",
      "20 latent factors and regularization = 0.05: validation RMSE is 0.31786144889201234\n",
      "20 latent factors and regularization = 0.1: validation RMSE is 0.3568378619054071\n",
      "20 latent factors and regularization = 0.2: validation RMSE is 0.4518881921066532\n",
      "\n",
      "The best model has 18 latent factors and regularization = 0.01\n",
      "Total Runtime: 132.08 seconds\n"
     ]
    }
   ],
   "source": [
    "# hyper-param config\n",
    "num_iterations = 10\n",
    "ranks = [8, 10, 12, 14, 16, 18, 20]\n",
    "reg_params = [0.001, 0.01, 0.05, 0.1, 0.2]\n",
    "\n",
    "# grid search and select best model\n",
    "start_time = time.time()\n",
    "final_model = train_ALS(train, validation, num_iterations, reg_params, ranks)\n",
    "\n",
    "print ('Total Runtime: {:.2f} seconds'.format(time.time() - start_time))"
   ]
  },
  {
   "cell_type": "markdown",
   "metadata": {},
   "source": [
    "### ALS Model Learning Curve"
   ]
  },
  {
   "cell_type": "code",
   "execution_count": 23,
   "metadata": {},
   "outputs": [],
   "source": [
    "def plot_learning_curve(arr_iters, train_data, validation_data, reg, rank):\n",
    "    \"\"\"\n",
    "    Plot function to show learning curve of ALS\n",
    "    \"\"\"\n",
    "    errors = []\n",
    "    for num_iters in arr_iters:\n",
    "        # train ALS model\n",
    "        model = ALS.train(\n",
    "            ratings=train_data,    # (userID, productID, rating) tuple\n",
    "            iterations=num_iters,\n",
    "            rank=rank,\n",
    "            lambda_=reg,           # regularization param\n",
    "            seed=99)\n",
    "        # make prediction\n",
    "        valid_data = validation_data.map(lambda p: (p[0], p[1]))\n",
    "        predictions = model.predictAll(valid_data).map(lambda r: ((r[0], r[1]), r[2]))\n",
    "        # get the rating result\n",
    "        ratesAndPreds = validation_data.map(lambda r: ((r[0], r[1]), r[2])).join(predictions)\n",
    "        # get the RMSE\n",
    "        MSE = ratesAndPreds.map(lambda r: (r[1][0] - r[1][1])**2).mean()\n",
    "        error = math.sqrt(MSE)\n",
    "        # add to errors\n",
    "        errors.append(error)\n",
    "\n",
    "    # plot\n",
    "    plt.figure(figsize=(12, 6))\n",
    "    plt.plot(arr_iters, errors)\n",
    "    plt.xlabel('number of iterations')\n",
    "    plt.ylabel('RMSE')\n",
    "    plt.title('ALS Learning Curve')\n",
    "    plt.grid(True)\n",
    "    plt.show()"
   ]
  },
  {
   "cell_type": "code",
   "execution_count": 24,
   "metadata": {},
   "outputs": [
    {
     "data": {
      "image/png": "[encoded data removed]",
      "text/plain": [
       "<Figure size 864x432 with 1 Axes>"
      ]
     },
     "metadata": {
      "needs_background": "light"
     },
     "output_type": "display_data"
    }
   ],
   "source": [
    "# create an array of num_iters\n",
    "iter_array = list(range(1, 11))\n",
    "# create learning curve plot\n",
    "plot_learning_curve(iter_array, train, validation, 0.05, 20)"
   ]
  },
  {
   "cell_type": "markdown",
   "metadata": {},
   "source": [
    "### Model Testing"
   ]
  },
  {
   "cell_type": "code",
   "execution_count": 25,
   "metadata": {},
   "outputs": [
    {
     "name": "stdout",
     "output_type": "stream",
     "text": [
      "The out-of-sample RMSE of rating predictions is 0.3093\n"
     ]
    }
   ],
   "source": [
    "# make prediction using test data\n",
    "test_data = test.map(lambda p: (p[0], p[1]))\n",
    "predictions = final_model.predictAll(test_data).map(lambda r: ((r[0], r[1]), r[2]))\n",
    "# get the rating result\n",
    "ratesAndPreds = test.map(lambda r: ((r[0], r[1]), r[2])).join(predictions)\n",
    "# get the RMSE\n",
    "MSE = ratesAndPreds.map(lambda r: (r[1][0] - r[1][1])**2).mean()\n",
    "error = math.sqrt(MSE)\n",
    "print('The out-of-sample RMSE of rating predictions is', round(error, 4))"
   ]
  },
  {
   "cell_type": "markdown",
   "metadata": {},
   "source": [
    "## RecSys Model Building"
   ]
  },
  {
   "cell_type": "markdown",
   "metadata": {},
   "source": [
    "### Function - 1"
   ]
  },
  {
   "cell_type": "code",
   "execution_count": 26,
   "metadata": {},
   "outputs": [],
   "source": [
    "# Function : For the given user_id get all the video ids \n",
    "def get_videoId(user_id,df_videos):\n",
    "    \"\"\"\n",
    "    return all movieId(s) of user's movies\n",
    "    Parameters\n",
    "    ----------\n",
    "    user_id: User_id of the user\n",
    "    Return\n",
    "    ------\n",
    "    videoId_list: list of videoId(s)\n",
    "    \"\"\"\n",
    "    videoId_list = []\n",
    "    videoIds = df_videos \\\n",
    "               .filter(ratings_1.User_id==user_id) \\\n",
    "               .select('Video_id') \\\n",
    "               .rdd \\\n",
    "               .map(lambda r: r[0]) \\\n",
    "               .collect()\n",
    "    videoId_list.extend(videoIds)\n",
    "    return list(set(videoId_list))"
   ]
  },
  {
   "cell_type": "code",
   "execution_count": 27,
   "metadata": {},
   "outputs": [
    {
     "data": {
      "text/plain": [
       "[433415,\n",
       " 433419,\n",
       " 433420,\n",
       " 438926,\n",
       " 438928,\n",
       " 433434,\n",
       " 433438,\n",
       " 433439,\n",
       " 433441,\n",
       " 433445,\n",
       " 439206,\n",
       " 433456,\n",
       " 433458,\n",
       " 433459,\n",
       " 433471,\n",
       " 433363,\n",
       " 438891,\n",
       " 433391,\n",
       " 433395,\n",
       " 433400,\n",
       " 438911]"
      ]
     },
     "execution_count": 27,
     "metadata": {},
     "output_type": "execute_result"
    }
   ],
   "source": [
    "# Testing the function - get_videoId\n",
    "user_id = 6156680 \n",
    "df_videos = ratings_1\n",
    "videoId_list = get_videoId(user_id,df_videos)\n",
    "videoId_list"
   ]
  },
  {
   "cell_type": "markdown",
   "metadata": {},
   "source": [
    "### Function - 2"
   ]
  },
  {
   "cell_type": "code",
   "execution_count": 28,
   "metadata": {},
   "outputs": [],
   "source": [
    "# Function : For the given user_id get all the video ids except the once the user watched\n",
    "\n",
    "def get_inference_data(df_videos,videoId_list,user_id):\n",
    "    \"\"\"\n",
    "    return a rdd with the userid and all videos (except ones in videoId_list)\n",
    "    Parameters\n",
    "    ----------\n",
    "    df_videos: spark Dataframe, videos data\n",
    "    videoId_list: list, list of videoId(s)\n",
    "    Return\n",
    "    ------\n",
    "    inference data: Spark RDD\n",
    "    \"\"\"\n",
    "    # get new user id\n",
    "    new_id = user_id\n",
    "    # return inference rdd\n",
    "    return df_videos.rdd \\\n",
    "        .map(lambda r: r[1]) \\\n",
    "        .distinct() \\\n",
    "        .filter(lambda x: x not in videoId_list) \\\n",
    "        .map(lambda x: (new_id, x))"
   ]
  },
  {
   "cell_type": "code",
   "execution_count": 29,
   "metadata": {},
   "outputs": [
    {
     "data": {
      "text/plain": [
       "[(6156680, 438235), (6156680, 438340), (6156680, 437175)]"
      ]
     },
     "execution_count": 29,
     "metadata": {},
     "output_type": "execute_result"
    }
   ],
   "source": [
    "# Testing the function - get_inference_data \n",
    "user_id = 6156680 \n",
    "df_videos = ratings_1\n",
    "inference_rdd = get_inference_data(df_videos,videoId_list,user_id)\n",
    "inference_rdd.take(3)"
   ]
  },
  {
   "cell_type": "markdown",
   "metadata": {},
   "source": [
    "### Function - 3"
   ]
  },
  {
   "cell_type": "code",
   "execution_count": 30,
   "metadata": {},
   "outputs": [],
   "source": [
    "best_model_params={'iterations': 10, 'rank': 18, 'lambda_': 0.01}\n",
    "model = ALS.train(\n",
    "        ratings=df_videos,\n",
    "        iterations=best_model_params.get('iterations', None),\n",
    "        rank=best_model_params.get('rank', None),\n",
    "        lambda_=best_model_params.get('lambda_', None),\n",
    "        seed=99)"
   ]
  },
  {
   "cell_type": "code",
   "execution_count": 31,
   "metadata": {},
   "outputs": [
    {
     "data": {
      "text/plain": [
       "[(433296, 0.9337544478883697),\n",
       " (430296, 0.8673936521655591),\n",
       " (235812, 1.1765468086420698)]"
      ]
     },
     "execution_count": 31,
     "metadata": {},
     "output_type": "execute_result"
    }
   ],
   "source": [
    "predictions = model.predictAll(inference_rdd).map(lambda r: (r[1], r[2]))\n",
    "predictions.take(3)"
   ]
  },
  {
   "cell_type": "code",
   "execution_count": 32,
   "metadata": {},
   "outputs": [
    {
     "data": {
      "text/plain": [
       "[(431941, 2.283836676517974),\n",
       " (431769, 2.268973866739951),\n",
       " (431893, 2.2272607033597724),\n",
       " (431781, 2.16190729387624),\n",
       " (431980, 2.0680024510917843),\n",
       " (431972, 2.049878553490232),\n",
       " (431738, 2.040356578804485),\n",
       " (431830, 2.036955217159745),\n",
       " (431679, 2.027015033143499),\n",
       " (431685, 2.021499232707069)]"
      ]
     },
     "execution_count": 32,
     "metadata": {},
     "output_type": "execute_result"
    }
   ],
   "source": [
    "n_recommendations=10\n",
    "topn_rows = predictions.sortBy(lambda r: r[1], ascending=False).take(n_recommendations)\n",
    "topn_rows"
   ]
  },
  {
   "cell_type": "code",
   "execution_count": 33,
   "metadata": {},
   "outputs": [
    {
     "data": {
      "text/plain": [
       "[431941,\n",
       " 431769,\n",
       " 431893,\n",
       " 431781,\n",
       " 431980,\n",
       " 431972,\n",
       " 431738,\n",
       " 431830,\n",
       " 431679,\n",
       " 431685]"
      ]
     },
     "execution_count": 33,
     "metadata": {},
     "output_type": "execute_result"
    }
   ],
   "source": [
    "topn_ids = [r[0] for r in topn_rows]\n",
    "topn_ids"
   ]
  },
  {
   "cell_type": "markdown",
   "metadata": {},
   "source": [
    "### Model"
   ]
  },
  {
   "cell_type": "code",
   "execution_count": 36,
   "metadata": {},
   "outputs": [],
   "source": [
    "# Function : For the given user_id get all the video ids \n",
    "def get_videoId(user_id,df_videos):\n",
    "    \"\"\"\n",
    "    return all movieId(s) of user's movies\n",
    "    Parameters\n",
    "    ----------\n",
    "    user_id: User_id of the user\n",
    "    Return\n",
    "    ------\n",
    "    videoId_list: list of videoId(s)\n",
    "    \"\"\"\n",
    "    videoId_list = []\n",
    "    videoIds = df_videos \\\n",
    "               .filter(ratings_1.User_id==user_id) \\\n",
    "               .select('Video_id') \\\n",
    "               .rdd \\\n",
    "               .map(lambda r: r[0]) \\\n",
    "               .collect()\n",
    "    videoId_list.extend(videoIds)\n",
    "    return list(set(videoId_list))\n",
    "\n",
    "# Function : For the given user_id get all the video ids except the once the user watched\n",
    "\n",
    "def get_inference_data(df_videos,videoId_list,user_id):\n",
    "    \"\"\"\n",
    "    return a rdd with the userid and all videos (except ones in videoId_list)\n",
    "    Parameters\n",
    "    ----------\n",
    "    df_videos: spark Dataframe, videos data\n",
    "    videoId_list: list, list of videoId(s)\n",
    "    Return\n",
    "    ------\n",
    "    inference data: Spark RDD\n",
    "    \"\"\"\n",
    "    # get new user id\n",
    "    new_id = user_id\n",
    "    # return inference rdd\n",
    "    return df_videos.rdd \\\n",
    "        .map(lambda r: r[1]) \\\n",
    "        .distinct() \\\n",
    "        .filter(lambda x: x not in videoId_list) \\\n",
    "        .map(lambda x: (new_id, x))\n",
    "\n",
    "def make_recommendation(best_model_params, df_videos, user_id,\n",
    "                        n_recommendations, spark_context):\n",
    "    \"\"\"\n",
    "    return top n video recommendation based on user's input list of favorite movies\n",
    "    \n",
    "    Parameters\n",
    "    ----------\n",
    "    best_model_params: dict, {'iterations': iter, 'rank': rank, 'lambda_': reg}\n",
    "    df_videos: spark Dataframe, movies data\n",
    "    user_id: User_id of the user\n",
    "    n_recommendations: int, top n recommendations\n",
    "    spark_context: Spark Context object\n",
    "    Return\n",
    "    ------\n",
    "    list of top n video recommendations\n",
    "    \"\"\"\n",
    "    movieId_list = get_videoId(user_id,df_videos)\n",
    "    # train best ALS\n",
    "    model = ALS.train(\n",
    "        ratings=df_videos,\n",
    "        iterations=best_model_params.get('iterations', None),\n",
    "        rank=best_model_params.get('rank', None),\n",
    "        lambda_=best_model_params.get('lambda_', None),\n",
    "        seed=99)\n",
    "    \n",
    "    # get inference rdd\n",
    "    inference_rdd = get_inference_data(df_videos,videoId_list,user_id)\n",
    "    \n",
    "    # inference\n",
    "    predictions = model.predictAll(inference_rdd).map(lambda r: (r[1], r[2]))\n",
    "    \n",
    "    # get top n movieId\n",
    "    topn_rows = predictions.sortBy(lambda r: r[1], ascending=False).take(n_recommendations)\n",
    "    topn_ids = [r[0] for r in topn_rows]\n",
    "    \n",
    "    # return video ids  \n",
    "    return topn_ids"
   ]
  },
  {
   "cell_type": "markdown",
   "metadata": {},
   "source": [
    "## Calling the RecSys for a sample userid"
   ]
  },
  {
   "cell_type": "code",
   "execution_count": 37,
   "metadata": {},
   "outputs": [
    {
     "name": "stdout",
     "output_type": "stream",
     "text": [
      "Recommended Video ids for user 6156680:\n",
      "[431941, 431769, 431893, 431781, 431980, 431972, 431738, 431830, 431679, 431685]\n"
     ]
    }
   ],
   "source": [
    "#Sample user_id : 6156680\n",
    "\n",
    "# get recommends\n",
    "recommends = make_recommendation(\n",
    "    best_model_params={'iterations': 10, 'rank': 18, 'lambda_': 0.01}, \n",
    "    df_videos = ratings_1, \n",
    "    user_id = 6156680,\n",
    "    n_recommendations=10, \n",
    "    spark_context=sc)\n",
    "    \n",
    "print('Recommended Video ids for user {}:'.format(user_id))\n",
    "print(recommends)"
   ]
  },
  {
   "cell_type": "code",
   "execution_count": null,
   "metadata": {},
   "outputs": [],
   "source": []
  }
 ],
 "metadata": {
  "kernelspec": {
   "display_name": "Python 3",
   "language": "python",
   "name": "python3"
  },
  "language_info": {
   "codemirror_mode": {
    "name": "ipython",
    "version": 3
   },
   "file_extension": ".py",
   "mimetype": "text/x-python",
   "name": "python",
   "nbconvert_exporter": "python",
   "pygments_lexer": "ipython3",
   "version": "3.7.1"
  }
 },
 "nbformat": 4,
 "nbformat_minor": 2
}
